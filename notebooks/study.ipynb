{
 "cells": [
  {
   "cell_type": "code",
   "execution_count": null,
   "id": "77a99912-9cec-4db3-90f0-7a3e43e484b7",
   "metadata": {},
   "outputs": [],
   "source": [
    "# create system\n",
    "from tube.systems import Tube\n",
    "\n",
    "sys = Tube('sys')\n",
    "\n",
    "# configure solver\n",
    "from cosapp.drivers import NonLinearSolver\n",
    "\n",
    "nls = sys.add_driver(NonLinearSolver('nls'))\n",
    "nls.add_unknown('fl_in.W')\n",
    "nls.add_equation('aero.ps_exit == 1e5')\n",
    "\n",
    "# init and run computation\n",
    "sys.fl_in.Pt = 2e5\n",
    "sys.run_drivers()\n",
    "\n",
    "# print results\n",
    "print('mass flow [kg/s]: ', sys.fl_in.W, ' kg/s')\n",
    "print('d_in cold/hot [m]: ', sys.geom.d_in, '/', sys.geom_hot.d_in)\n",
    "print('d_exit cold/hot [m]: ', sys.geom.d_exit, '/', sys.geom_hot.d_exit)"
   ]
  }
 ],
 "metadata": {
  "kernelspec": {
   "display_name": "Python 3 (ipykernel)",
   "language": "python",
   "name": "python3"
  },
  "language_info": {
   "codemirror_mode": {
    "name": "ipython",
    "version": 3
   },
   "file_extension": ".py",
   "mimetype": "text/x-python",
   "name": "python",
   "nbconvert_exporter": "python",
   "pygments_lexer": "ipython3",
   "version": "3.11.3"
  }
 },
 "nbformat": 4,
 "nbformat_minor": 5
}
